{
 "cells": [
  {
   "cell_type": "markdown",
   "metadata": {},
   "source": [
    "# Race classifier \n",
    "\n",
    "This is a Race calssifier, simply you enter an image and it callsifies it into one of seven Ethnities:\n",
    " - East Asian\n",
    " - Indian \n",
    " - Black\n",
    " - White' \n",
    " - Middle Eastern\n",
    " - Latino_Hispanic \n",
    " - Southeast Asian"
   ]
  },
  {
   "cell_type": "code",
   "execution_count": 8,
   "metadata": {},
   "outputs": [],
   "source": [
    "# !pip install nbconvert==5.6.1 --quiet\n",
    "# !pip install -Uqq fastbook --quiet\n",
    "\n",
    "\n",
    "# !jupyter serverextension enable voila --sys-prefix \n",
    "# import fastbook\n",
    "# fastbook.setup_book()\n",
    "# from fastbook import *\n",
    "\n",
    "\n",
    "!pip install fastai --quiet\n",
    "!pip install voila --quiet\n",
    "\n",
    "from fastai.vision.widgets import *\n",
    "from fastai.vision.all import *\n"
   ]
  },
  {
   "cell_type": "code",
   "execution_count": 2,
   "metadata": {},
   "outputs": [],
   "source": [
    "import pandas as pd \n",
    "import os \n",
    "from shutil import copy2\n",
    "from tqdm import tqdm\n",
    "\n",
    "\n",
    "TRAIN = False"
   ]
  },
  {
   "cell_type": "code",
   "execution_count": 9,
   "metadata": {},
   "outputs": [],
   "source": [
    "learn  = load_learner('race_calssifier.pkl')\n"
   ]
  },
  {
   "cell_type": "code",
   "execution_count": null,
   "metadata": {},
   "outputs": [],
   "source": [
    "btn_upload = widgets.FileUpload()\n",
    "btn_classify = widgets.Button(description='Classify')\n",
    "out_pl = widgets.Output()\n",
    "lbl_pred = widgets.Label()"
   ]
  },
  {
   "cell_type": "code",
   "execution_count": null,
   "metadata": {},
   "outputs": [],
   "source": [
    "def on_click_classify(change):\n",
    "  \n",
    "  out_pl.clear_output()\n",
    "  lbl_pred.value = ''\n",
    "  if len(btn_upload.data) > 0:\n",
    "    img = PILImage.create(btn_upload.data[-1])\n",
    "    pred,pred_idx,probs = learn.predict(img)\n",
    "\n",
    "    \n",
    "    with out_pl: display(img.to_thumb(128,128))\n",
    "    \n",
    "    lbl_pred.value = f'Prediction: {pred}; Probability: {probs[pred_idx]:.04f}'\n",
    "    \n",
    "  else:\n",
    "\n",
    "    lbl_pred.value = 'Please upload an image first!'\n",
    "\n",
    "\n",
    "\n",
    "btn_classify.on_click(on_click_classify)"
   ]
  },
  {
   "cell_type": "code",
   "execution_count": null,
   "metadata": {},
   "outputs": [],
   "source": [
    "VBox([widgets.Label('Select your Face image!'), \n",
    "      btn_upload, btn_classify, out_pl, lbl_pred])"
   ]
  },
  {
   "cell_type": "code",
   "execution_count": null,
   "metadata": {},
   "outputs": [],
   "source": []
  }
 ],
 "metadata": {
  "kernelspec": {
   "display_name": "Python 3",
   "language": "python",
   "name": "python3"
  },
  "language_info": {
   "codemirror_mode": {
    "name": "ipython",
    "version": 3
   },
   "file_extension": ".py",
   "mimetype": "text/x-python",
   "name": "python",
   "nbconvert_exporter": "python",
   "pygments_lexer": "ipython3",
   "version": "3.8.6"
  }
 },
 "nbformat": 4,
 "nbformat_minor": 4
}
